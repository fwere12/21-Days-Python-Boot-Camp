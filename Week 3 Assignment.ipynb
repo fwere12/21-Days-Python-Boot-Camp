{
 "cells": [
  {
   "cell_type": "markdown",
   "id": "63e73d10",
   "metadata": {},
   "source": [
    "# Q1: Secure Password Generator"
   ]
  },
  {
   "cell_type": "markdown",
   "id": "209b7d10",
   "metadata": {},
   "source": [
    "Create a program that generates secure passwords based on user input.\n",
    "Tasks:\n",
    "a) Use lists or strings to store character sets: lowercase, uppercase, numbers, symbols.\n",
    "b) Using a Python function that accepts relevant arguments generate a random password based on:\n",
    "User-specified password length.\n",
    "User-chosen character types.\n",
    "c) Implement input validation for secure password requirements, i.e, ask the user for password length\n",
    "and the character sets to use for the password generation.\n",
    "d) Add function that checks password strength makes suggestions for improvement based on\n",
    "password length and the variety of character sets included."
   ]
  },
  {
   "cell_type": "code",
   "execution_count": 1,
   "id": "12c201a9",
   "metadata": {},
   "outputs": [
    {
     "name": "stdout",
     "output_type": "stream",
     "text": [
      "Welcome to the Secure Password Generator!\n",
      "Enter the desired password length: 12\n",
      "Include lowercase letters? (yes/no): Yes\n",
      "Include uppercase letters? (yes/no): yes\n",
      "Include numbers? (yes/no): yes\n",
      "Include symbols? (yes/no): yes\n",
      "Your generated password is: Ixi5NWU|U2j6\n",
      "Your password is strong. Good job!\n"
     ]
    }
   ],
   "source": [
    "import random\n",
    "import string\n",
    "\n",
    "def generate_password(length, use_lowercase, use_uppercase, use_numbers, use_symbols):\n",
    "    characters = ''\n",
    "    if use_lowercase:\n",
    "        characters += string.ascii_lowercase\n",
    "    if use_uppercase:\n",
    "        characters += string.ascii_uppercase\n",
    "    if use_numbers:\n",
    "        characters += string.digits\n",
    "    if use_symbols:\n",
    "        characters += string.punctuation\n",
    "\n",
    "    if not characters:\n",
    "        print(\"Please select at least one character set.\")\n",
    "        return None\n",
    "\n",
    "    password = ''.join(random.choice(characters) for _ in range(length))\n",
    "    return password\n",
    "\n",
    "def check_password_strength(password):\n",
    "    length = len(password)\n",
    "    sets = [string.ascii_lowercase, string.ascii_uppercase, string.digits, string.punctuation]\n",
    "    variety = sum(any(char in char_set for char in password) for char_set in sets)\n",
    "    \n",
    "    if length < 8:\n",
    "        print(\"Your password is weak. Consider making it longer.\")\n",
    "    elif length < 12 or variety < 3:\n",
    "        print(\"Your password could be stronger. Consider adding more characters or character sets.\")\n",
    "    else:\n",
    "        print(\"Your password is strong. Good job!\")\n",
    "\n",
    "def main():\n",
    "    print(\"Welcome to the Secure Password Generator!\")\n",
    "    length = int(input(\"Enter the desired password length: \"))\n",
    "    use_lowercase = input(\"Include lowercase letters? (yes/no): \").lower() == 'yes'\n",
    "    use_uppercase = input(\"Include uppercase letters? (yes/no): \").lower() == 'yes'\n",
    "    use_numbers = input(\"Include numbers? (yes/no): \").lower() == 'yes'\n",
    "    use_symbols = input(\"Include symbols? (yes/no): \").lower() == 'yes'\n",
    "\n",
    "    password = generate_password(length, use_lowercase, use_uppercase, use_numbers, use_symbols)\n",
    "    if password:\n",
    "        print(\"Your generated password is:\", password)\n",
    "        check_password_strength(password)\n",
    "\n",
    "if __name__ == \"__main__\":\n",
    "    main()"
   ]
  },
  {
   "cell_type": "markdown",
   "id": "7aeead60",
   "metadata": {},
   "source": [
    "# Q2: Number Guessing Game"
   ]
  },
  {
   "cell_type": "markdown",
   "id": "c7602541",
   "metadata": {},
   "source": [
    "The player tries to guess a randomly generated number within a specified range and in the minimum number\n",
    "of attempts.\n",
    "Tasks:\n",
    "a) Generate a random secret number within a set range (e.g., 1 to 100).\n",
    "b) Set a maximum number of allowed guesses (3 or 5).\n",
    "c) Use a while loop to iterate until the user guesses the number correctly or exceeds the attempt limit.\n",
    "d) Inside the loop:\n",
    "Prompt the user to enter a guess.\n",
    "Use conditional statements (if-else) to provide feedback:\n",
    "If the guess is correct, congratulate the user and end the game.\n",
    "If the guess is higher or lower, inform the user and deduct one attempt.\n",
    "Display the number of remaining attempts after each guess.\n",
    "e) After the loop, inform the user if they ran out of guesses and reveal the secret number."
   ]
  },
  {
   "cell_type": "code",
   "execution_count": 2,
   "id": "5106fd9a",
   "metadata": {},
   "outputs": [
    {
     "name": "stdout",
     "output_type": "stream",
     "text": [
      "Welcome to the Guess the Number Game!\n",
      "I'm thinking of a number between 1 and 100. You have 5 attempts to guess it.\n",
      "Enter your guess: 55\n",
      "Too high. Try again.\n",
      "You have 4 attempts left.\n",
      "Enter your guess: 12\n",
      "Too low. Try again.\n",
      "You have 3 attempts left.\n",
      "Enter your guess: 47\n",
      "Too low. Try again.\n",
      "You have 2 attempts left.\n",
      "Enter your guess: 5\n",
      "Too low. Try again.\n",
      "You have 1 attempts left.\n",
      "Enter your guess: 77\n",
      "Too high. Try again.\n",
      "You have 0 attempts left.\n",
      "Sorry, you ran out of guesses. The secret number was 50.\n"
     ]
    }
   ],
   "source": [
    "import random\n",
    "\n",
    "def guess_the_number():\n",
    "    # Generate a random secret number within the range of 1 to 100\n",
    "    secret_number = random.randint(1, 100)\n",
    "    \n",
    "    # Set the maximum number of allowed guesses\n",
    "    max_guesses = 5\n",
    "    remaining_guesses = max_guesses\n",
    "\n",
    "    print(\"Welcome to the Guess the Number Game!\")\n",
    "    print(f\"I'm thinking of a number between 1 and 100. You have {max_guesses} attempts to guess it.\")\n",
    "\n",
    "    # Use a while loop to iterate until the user guesses the number correctly or exceeds the attempt limit\n",
    "    while remaining_guesses > 0:\n",
    "        try:\n",
    "            # Prompt the user to enter a guess\n",
    "            guess = int(input(\"Enter your guess: \"))\n",
    "            \n",
    "            # Check if the guess is within the valid range\n",
    "            if guess < 1 or guess > 100:\n",
    "                print(\"Please enter a number between 1 and 100.\")\n",
    "                continue\n",
    "\n",
    "            # Provide feedback to the user\n",
    "            if guess == secret_number:\n",
    "                print(\"Congratulations! You guessed the number correctly.\")\n",
    "                break\n",
    "            elif guess < secret_number:\n",
    "                print(\"Too low. Try again.\")\n",
    "            else:\n",
    "                print(\"Too high. Try again.\")\n",
    "\n",
    "            # Deduct one attempt\n",
    "            remaining_guesses -= 1\n",
    "            print(f\"You have {remaining_guesses} attempts left.\")\n",
    "\n",
    "        except ValueError:\n",
    "            print(\"Invalid input. Please enter a valid number.\")\n",
    "\n",
    "    # Inform the user if they ran out of guesses and reveal the secret number\n",
    "    if remaining_guesses == 0:\n",
    "        print(f\"Sorry, you ran out of guesses. The secret number was {secret_number}.\")\n",
    "\n",
    "if __name__ == \"__main__\":\n",
    "    guess_the_number()"
   ]
  },
  {
   "cell_type": "code",
   "execution_count": null,
   "id": "82b5f0fd",
   "metadata": {},
   "outputs": [],
   "source": []
  }
 ],
 "metadata": {
  "kernelspec": {
   "display_name": "Python 3 (ipykernel)",
   "language": "python",
   "name": "python3"
  },
  "language_info": {
   "codemirror_mode": {
    "name": "ipython",
    "version": 3
   },
   "file_extension": ".py",
   "mimetype": "text/x-python",
   "name": "python",
   "nbconvert_exporter": "python",
   "pygments_lexer": "ipython3",
   "version": "3.9.13"
  }
 },
 "nbformat": 4,
 "nbformat_minor": 5
}
